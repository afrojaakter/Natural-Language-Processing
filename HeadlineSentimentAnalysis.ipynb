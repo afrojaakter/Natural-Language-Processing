{
  "nbformat": 4,
  "nbformat_minor": 0,
  "metadata": {
    "colab": {
      "name": "HeadlineSentimentAnalysis.ipynb",
      "provenance": [],
      "collapsed_sections": [],
      "include_colab_link": true
    },
    "kernelspec": {
      "display_name": "Python 3",
      "name": "python3"
    }
  },
  "cells": [
    {
      "cell_type": "markdown",
      "metadata": {
        "id": "view-in-github",
        "colab_type": "text"
      },
      "source": [
        "<a href=\"https://colab.research.google.com/github/afrojaakter/Natural-Language-Processing/blob/main/HeadlineSentimentAnalysis.ipynb\" target=\"_parent\"><img src=\"https://colab.research.google.com/assets/colab-badge.svg\" alt=\"Open In Colab\"/></a>"
      ]
    },
    {
      "cell_type": "markdown",
      "metadata": {
        "id": "VYL9rFAQ74kW"
      },
      "source": [
        "###Tokenizer"
      ]
    },
    {
      "cell_type": "code",
      "metadata": {
        "colab": {
          "base_uri": "https://localhost:8080/"
        },
        "id": "zaCMcjMQifQc",
        "outputId": "c60a3765-cda6-4314-9d71-de8c996cf3b2"
      },
      "source": [
        "from tensorflow.keras.preprocessing.text import Tokenizer\n",
        "\n",
        "sentences = [\n",
        "    'i love my dog',\n",
        "    'I, love my cat',\n",
        "    'You love my dog!',\n",
        "    'How are you?'\n",
        "]\n",
        "\n",
        "tokenizer = Tokenizer(num_words = 2)\n",
        "tokenizer.fit_on_texts(sentences)\n",
        "word_index = tokenizer.word_index\n",
        "print(word_index)"
      ],
      "execution_count": null,
      "outputs": [
        {
          "output_type": "stream",
          "text": [
            "{'love': 1, 'my': 2, 'i': 3, 'dog': 4, 'you': 5, 'cat': 6, 'how': 7, 'are': 8}\n"
          ],
          "name": "stdout"
        }
      ]
    },
    {
      "cell_type": "markdown",
      "metadata": {
        "id": "ZG4xny8D7bUH"
      },
      "source": [
        "We see there are we have one token for each word. we also notice that word 'dog' and 'dog!', tokeniziser can tell they are the same word and not putting different token for 'dog' and 'dog!'. "
      ]
    },
    {
      "cell_type": "code",
      "metadata": {
        "colab": {
          "base_uri": "https://localhost:8080/"
        },
        "id": "Y199A9il5wr6",
        "outputId": "61a03a2d-2974-485e-b22a-8fabdd355ffd"
      },
      "source": [
        "from tensorflow.keras.preprocessing.text import Tokenizer\n",
        "\n",
        "sentences = [\n",
        "             'I love to eat rice!',\n",
        "             'I want to go home',\n",
        "             'I feel scared of animal',\n",
        "             'I like to sleep'\n",
        "             ]\n",
        "tokenizer = Tokenizer(num_words = 100) #to keep the most frequent 100 words if we lave a lot of words, e.g. a book or many book\n",
        "tokenizer.fit_on_texts(sentences)\n",
        "word_index = tokenizer.word_index\n",
        "print(word_index)"
      ],
      "execution_count": null,
      "outputs": [
        {
          "output_type": "stream",
          "text": [
            "{'i': 1, 'to': 2, 'love': 3, 'eat': 4, 'rice': 5, 'want': 6, 'go': 7, 'home': 8, 'feel': 9, 'scared': 10, 'of': 11, 'animal': 12, 'like': 13, 'sleep': 14}\n"
          ],
          "name": "stdout"
        }
      ]
    },
    {
      "cell_type": "markdown",
      "metadata": {
        "id": "JmMeRe1C7Jwu"
      },
      "source": [
        "We see there are four i but we get only one token for the the word 'I', one token for word 'to' and so on. i.e. one word has one token number. "
      ]
    },
    {
      "cell_type": "markdown",
      "metadata": {
        "id": "4Z-qna6s7_xP"
      },
      "source": [
        "###Turning sentences into data\n",
        "Now we will take the sequences of numbers from the sentences and use tools to precess them and train a neural network."
      ]
    },
    {
      "cell_type": "code",
      "metadata": {
        "colab": {
          "base_uri": "https://localhost:8080/"
        },
        "id": "OC4OtmlX8IMQ",
        "outputId": "581baf87-3d9e-4cc0-c143-555e8332a0cb"
      },
      "source": [
        "import tensorflow as tf\n",
        "from tensorflow import keras\n",
        "from tensorflow.keras.preprocessing.text import Tokenizer\n",
        "from tensorflow.keras.preprocessing.sequence import pad_sequences\n",
        "\n",
        "sentences = [\n",
        "             'I love my dog',\n",
        "             'I love my cat',\n",
        "             'Do you love my cat!',\n",
        "             'Do you think my cat is amazing?'\n",
        "]\n",
        "\n",
        "tokenizer = Tokenizer(num_words=100, oov_token=\"<OOV>\") #oov_token put token number '1' for a unseen word in the test data\n",
        "tokenizer.fit_on_texts(sentences)\n",
        "word_index = tokenizer.word_index\n",
        "\n",
        "sequence = tokenizer.texts_to_sequences(sentences)\n",
        "\n",
        "padded = pad_sequences(sequence)\n",
        "print(\"\\nWord Index = \", word_index)\n",
        "print(\"\\nSequence = \", sequence)\n",
        "print(\"\\nPadded Sequence =\\n\", padded)"
      ],
      "execution_count": null,
      "outputs": [
        {
          "output_type": "stream",
          "text": [
            "\n",
            "Word Index =  {'<OOV>': 1, 'my': 2, 'love': 3, 'cat': 4, 'i': 5, 'do': 6, 'you': 7, 'dog': 8, 'think': 9, 'is': 10, 'amazing': 11}\n",
            "\n",
            "Sequence =  [[5, 3, 2, 8], [5, 3, 2, 4], [6, 7, 3, 2, 4], [6, 7, 9, 2, 4, 10, 11]]\n",
            "\n",
            "Padded Sequence =\n",
            " [[ 0  0  0  5  3  2  8]\n",
            " [ 0  0  0  5  3  2  4]\n",
            " [ 0  0  6  7  3  2  4]\n",
            " [ 6  7  9  2  4 10 11]]\n"
          ],
          "name": "stdout"
        }
      ]
    },
    {
      "cell_type": "code",
      "metadata": {
        "colab": {
          "base_uri": "https://localhost:8080/"
        },
        "id": "ObOci1vDB3HY",
        "outputId": "f84f5afe-8474-4cc8-e154-2ca9d1dbe312"
      },
      "source": [
        "test_sentence = [\n",
        "                 'I really love play with my cat',\n",
        "                 'My cat loves my me'\n",
        "]\n",
        "test_sequence = tokenizer.texts_to_sequences(test_sentence)\n",
        "padded = pad_sequences(test_sequence, maxlen= 10)\n",
        "print(\"\\nTest sequence = \", test_sequence)\n",
        "print(\"\\nPadded test sequence = \\n\", padded)"
      ],
      "execution_count": null,
      "outputs": [
        {
          "output_type": "stream",
          "text": [
            "\n",
            "Test sequence =  [[5, 1, 3, 1, 1, 2, 4], [2, 4, 1, 2, 1]]\n",
            "\n",
            "Padded test sequence = \n",
            " [[0 0 0 5 1 3 1 1 2 4]\n",
            " [0 0 0 0 0 2 4 1 2 1]]\n"
          ],
          "name": "stdout"
        }
      ]
    },
    {
      "cell_type": "markdown",
      "metadata": {
        "id": "aDPUx4yVDCu3"
      },
      "source": [
        "We see here for each unseen word we got token number '1'. words 'really', 'with', 'me', all has token number '1'. \n",
        "maxlen = 10 makes the row lenght 10 for each row in the padded matrix. If not declared then row length will be the len of largest sentence.  \n",
        "'0' means no token number. "
      ]
    },
    {
      "cell_type": "markdown",
      "metadata": {
        "id": "x8bO6uleEBzE"
      },
      "source": [
        "## A classifier to recognize sentiment in text\n",
        "\n",
        "is_sarcastic: 1 if the record is sarcastic otherwise 0\n",
        "\n",
        "headline: the headline of the news article\n",
        "\n",
        "article_link: link to the original news article. Useful in collenting supplementary data. But we are not using this part here. \n",
        "\n",
        "\n",
        "We will build a NN classifier to check if a headline is sarcastic or not.\n",
        "\n"
      ]
    },
    {
      "cell_type": "code",
      "metadata": {
        "id": "hzTa9GM3ZOU5"
      },
      "source": [
        "import json\n",
        "import tensorflow as tf\n",
        "\n",
        "from tensorflow.keras.preprocessing.text import Tokenizer\n",
        "from tensorflow.keras.preprocessing.sequence import pad_sequences\n",
        "\n",
        "vocab_size = 10000\n",
        "embedding_dim = 100\n",
        "max_length = 100\n",
        "truncation_type = 'post'\n",
        "padding_type = 'post'\n",
        "oov_tok = \"<OOV>\"\n",
        "training_size = 20000\n"
      ],
      "execution_count": null,
      "outputs": []
    },
    {
      "cell_type": "code",
      "metadata": {
        "colab": {
          "base_uri": "https://localhost:8080/"
        },
        "id": "1yH8Xyw6EAwH",
        "outputId": "918d8b31-c38b-445c-ca27-0d1d7eccb41f"
      },
      "source": [
        "# uploading data\n",
        "!wget --no-check-certificate \\\n",
        "  https://storage.googleapis.com/laurencemoroney-blog.appspot.com/sarcasm.json \\\n",
        "    -O /tmp/sarcasm.json"
      ],
      "execution_count": null,
      "outputs": [
        {
          "output_type": "stream",
          "text": [
            "--2021-07-07 05:07:43--  https://storage.googleapis.com/laurencemoroney-blog.appspot.com/sarcasm.json\n",
            "Resolving storage.googleapis.com (storage.googleapis.com)... 172.217.218.128, 142.250.153.128, 74.125.128.128, ...\n",
            "Connecting to storage.googleapis.com (storage.googleapis.com)|172.217.218.128|:443... connected.\n",
            "HTTP request sent, awaiting response... 200 OK\n",
            "Length: 5643545 (5.4M) [application/json]\n",
            "Saving to: ‘/tmp/sarcasm.json’\n",
            "\n",
            "/tmp/sarcasm.json   100%[===================>]   5.38M  --.-KB/s    in 0.03s   \n",
            "\n",
            "2021-07-07 05:07:43 (201 MB/s) - ‘/tmp/sarcasm.json’ saved [5643545/5643545]\n",
            "\n"
          ],
          "name": "stdout"
        }
      ]
    },
    {
      "cell_type": "code",
      "metadata": {
        "id": "sSPJRuKrXZ-I"
      },
      "source": [
        "# reading json data\n",
        "with open(\"/tmp/sarcasm.json\", 'r') as f:\n",
        "  datastore = json.load(f)\n",
        "\n",
        "sentences = []\n",
        "labels = []\n",
        "\n",
        "for item in datastore:\n",
        "  sentences.append(item['headline'])\n",
        "  labels.append(item['is_sarcastic'])"
      ],
      "execution_count": null,
      "outputs": []
    },
    {
      "cell_type": "code",
      "metadata": {
        "id": "cbwl6rmLX6lN"
      },
      "source": [
        "#spliting traning and test data\n",
        "training_sentences = sentences[0:training_size]\n",
        "test_sentences = sentences[training_size:]\n",
        "training_labels = labels[0:training_size]\n",
        "test_labels = labels[training_size:]"
      ],
      "execution_count": null,
      "outputs": []
    },
    {
      "cell_type": "code",
      "metadata": {
        "colab": {
          "base_uri": "https://localhost:8080/"
        },
        "id": "lvwZI9-PYWJR",
        "outputId": "9726ad41-2f19-49ad-ec8d-77d61997dd08"
      },
      "source": [
        "#Preprocessing traning and test data\n",
        "tokenizer = Tokenizer(num_words=vocab_size, oov_token=oov_tok)\n",
        "tokenizer.fit_on_texts(training_sentences)\n",
        "\n",
        "word_index = tokenizer.word_index\n",
        "\n",
        "training_sequences = tokenizer.texts_to_sequences(training_sentences)\n",
        "training_padded = pad_sequences(training_sequences, maxlen=max_length,\n",
        "                                padding=padding_type, truncating=truncation_type)\n",
        "\n",
        "test_sequences = tokenizer.texts_to_sequences(test_sentences)\n",
        "test_padded = pad_sequences(test_sequences, maxlen=max_length, \n",
        "                            padding=padding_type, truncating=truncation_type)\n",
        "\n",
        "print(training_padded.shape, test_padded.shape)"
      ],
      "execution_count": null,
      "outputs": [
        {
          "output_type": "stream",
          "text": [
            "(20000, 100) (6709, 100)\n"
          ],
          "name": "stdout"
        }
      ]
    },
    {
      "cell_type": "code",
      "metadata": {
        "id": "eXixY4LVbWNZ"
      },
      "source": [
        "import numpy as np\n",
        "#converting to numpy array\n",
        "training_padded = np.array(training_padded)\n",
        "training_labels = np.array(training_labels)\n",
        "test_padded = np.array(test_padded)\n",
        "test_labels = np.array(test_labels)\n"
      ],
      "execution_count": null,
      "outputs": []
    },
    {
      "cell_type": "code",
      "metadata": {
        "id": "vspa3kNkbtZ1"
      },
      "source": [
        "model = tf.keras.Sequential([\n",
        "                             tf.keras.layers.Embedding(vocab_size, embedding_dim,\n",
        "                                                       input_length = max_length),\n",
        "                             tf.keras.layers.GlobalAveragePooling1D(),\n",
        "                             tf.keras.layers.Dense(24, activation='relu'),\n",
        "                             tf.keras.layers.Dense(1, activation='sigmoid')\n",
        "])\n",
        "model.compile(loss = 'binary_crossentropy', optimizer = 'adam', metrics = ['accuracy'])"
      ],
      "execution_count": null,
      "outputs": []
    },
    {
      "cell_type": "code",
      "metadata": {
        "colab": {
          "base_uri": "https://localhost:8080/"
        },
        "id": "LdExA6O9cilH",
        "outputId": "24d6404a-c2d4-4d13-f984-81197f0cdea5"
      },
      "source": [
        "model.summary()"
      ],
      "execution_count": null,
      "outputs": [
        {
          "output_type": "stream",
          "text": [
            "Model: \"sequential\"\n",
            "_________________________________________________________________\n",
            "Layer (type)                 Output Shape              Param #   \n",
            "=================================================================\n",
            "embedding (Embedding)        (None, 100, 100)          1000000   \n",
            "_________________________________________________________________\n",
            "global_average_pooling1d (Gl (None, 100)               0         \n",
            "_________________________________________________________________\n",
            "dense (Dense)                (None, 24)                2424      \n",
            "_________________________________________________________________\n",
            "dense_1 (Dense)              (None, 1)                 25        \n",
            "=================================================================\n",
            "Total params: 1,002,449\n",
            "Trainable params: 1,002,449\n",
            "Non-trainable params: 0\n",
            "_________________________________________________________________\n"
          ],
          "name": "stdout"
        }
      ]
    },
    {
      "cell_type": "code",
      "metadata": {
        "colab": {
          "base_uri": "https://localhost:8080/"
        },
        "id": "K19ZnycJck_-",
        "outputId": "96a59efd-5a69-40c1-c3a7-d423aa67c11e"
      },
      "source": [
        "num_epochs = 30\n",
        "history = model.fit(training_padded, training_labels, epochs= num_epochs, \n",
        "                    validation_data = (test_padded, test_labels), verbose = 2)"
      ],
      "execution_count": null,
      "outputs": [
        {
          "output_type": "stream",
          "text": [
            "Epoch 1/30\n",
            "625/625 - 8s - loss: 0.6021 - accuracy: 0.6586 - val_loss: 0.4194 - val_accuracy: 0.8295\n",
            "Epoch 2/30\n",
            "625/625 - 7s - loss: 0.3368 - accuracy: 0.8636 - val_loss: 0.3573 - val_accuracy: 0.8450\n",
            "Epoch 3/30\n",
            "625/625 - 7s - loss: 0.2557 - accuracy: 0.8985 - val_loss: 0.3445 - val_accuracy: 0.8548\n",
            "Epoch 4/30\n",
            "625/625 - 7s - loss: 0.2096 - accuracy: 0.9187 - val_loss: 0.3541 - val_accuracy: 0.8529\n",
            "Epoch 5/30\n",
            "625/625 - 7s - loss: 0.1779 - accuracy: 0.9328 - val_loss: 0.3808 - val_accuracy: 0.8478\n",
            "Epoch 6/30\n",
            "625/625 - 7s - loss: 0.1534 - accuracy: 0.9425 - val_loss: 0.3960 - val_accuracy: 0.8496\n",
            "Epoch 7/30\n",
            "625/625 - 7s - loss: 0.1311 - accuracy: 0.9531 - val_loss: 0.4306 - val_accuracy: 0.8463\n",
            "Epoch 8/30\n",
            "625/625 - 7s - loss: 0.1164 - accuracy: 0.9600 - val_loss: 0.4678 - val_accuracy: 0.8425\n",
            "Epoch 9/30\n",
            "625/625 - 7s - loss: 0.1030 - accuracy: 0.9634 - val_loss: 0.5102 - val_accuracy: 0.8360\n",
            "Epoch 10/30\n",
            "625/625 - 7s - loss: 0.0891 - accuracy: 0.9682 - val_loss: 0.5416 - val_accuracy: 0.8354\n",
            "Epoch 11/30\n",
            "625/625 - 7s - loss: 0.0837 - accuracy: 0.9714 - val_loss: 0.5757 - val_accuracy: 0.8331\n",
            "Epoch 12/30\n",
            "625/625 - 7s - loss: 0.0734 - accuracy: 0.9754 - val_loss: 0.6723 - val_accuracy: 0.8249\n",
            "Epoch 13/30\n",
            "625/625 - 7s - loss: 0.0646 - accuracy: 0.9792 - val_loss: 0.6729 - val_accuracy: 0.8301\n",
            "Epoch 14/30\n",
            "625/625 - 7s - loss: 0.0593 - accuracy: 0.9797 - val_loss: 0.7383 - val_accuracy: 0.8267\n",
            "Epoch 15/30\n",
            "625/625 - 7s - loss: 0.0529 - accuracy: 0.9833 - val_loss: 0.7554 - val_accuracy: 0.8219\n",
            "Epoch 16/30\n",
            "625/625 - 7s - loss: 0.0479 - accuracy: 0.9847 - val_loss: 0.8817 - val_accuracy: 0.8195\n",
            "Epoch 17/30\n",
            "625/625 - 7s - loss: 0.0472 - accuracy: 0.9843 - val_loss: 0.8871 - val_accuracy: 0.8190\n",
            "Epoch 18/30\n",
            "625/625 - 7s - loss: 0.0409 - accuracy: 0.9867 - val_loss: 0.9084 - val_accuracy: 0.8205\n",
            "Epoch 19/30\n",
            "625/625 - 7s - loss: 0.0390 - accuracy: 0.9875 - val_loss: 0.9925 - val_accuracy: 0.8125\n",
            "Epoch 20/30\n",
            "625/625 - 7s - loss: 0.0348 - accuracy: 0.9890 - val_loss: 1.1206 - val_accuracy: 0.8119\n",
            "Epoch 21/30\n",
            "625/625 - 7s - loss: 0.0297 - accuracy: 0.9909 - val_loss: 1.0493 - val_accuracy: 0.8164\n",
            "Epoch 22/30\n",
            "625/625 - 7s - loss: 0.0299 - accuracy: 0.9905 - val_loss: 1.0939 - val_accuracy: 0.8131\n",
            "Epoch 23/30\n",
            "625/625 - 7s - loss: 0.0245 - accuracy: 0.9929 - val_loss: 1.1315 - val_accuracy: 0.8135\n",
            "Epoch 24/30\n",
            "625/625 - 7s - loss: 0.0246 - accuracy: 0.9926 - val_loss: 1.1611 - val_accuracy: 0.8114\n",
            "Epoch 25/30\n",
            "625/625 - 7s - loss: 0.0229 - accuracy: 0.9926 - val_loss: 1.2023 - val_accuracy: 0.8094\n",
            "Epoch 26/30\n",
            "625/625 - 7s - loss: 0.0217 - accuracy: 0.9930 - val_loss: 1.2772 - val_accuracy: 0.8113\n",
            "Epoch 27/30\n",
            "625/625 - 7s - loss: 0.0221 - accuracy: 0.9930 - val_loss: 1.3505 - val_accuracy: 0.8097\n",
            "Epoch 28/30\n",
            "625/625 - 7s - loss: 0.0195 - accuracy: 0.9938 - val_loss: 1.4007 - val_accuracy: 0.8095\n",
            "Epoch 29/30\n",
            "625/625 - 7s - loss: 0.0188 - accuracy: 0.9939 - val_loss: 1.3883 - val_accuracy: 0.8074\n",
            "Epoch 30/30\n",
            "625/625 - 7s - loss: 0.0180 - accuracy: 0.9948 - val_loss: 1.4392 - val_accuracy: 0.8083\n"
          ],
          "name": "stdout"
        }
      ]
    },
    {
      "cell_type": "code",
      "metadata": {
        "colab": {
          "base_uri": "https://localhost:8080/",
          "height": 541
        },
        "id": "Sr2-TcCcc8uI",
        "outputId": "6dc6300b-b31a-4c18-faae-4e4157dc2acf"
      },
      "source": [
        "import matplotlib.pyplot as plt\n",
        "\n",
        "def plot_graphs(history, string):\n",
        "  plt.plot(history.history[string])\n",
        "  plt.plot(history.history['val_' + string])\n",
        "  plt.xlabel(\"Epochs\")\n",
        "  plt.ylabel(string)\n",
        "  plt.legend([string, 'val_'+string])\n",
        "  plt.show()\n",
        "  \n",
        "plot_graphs(history, \"accuracy\")\n",
        "plot_graphs(history, \"loss\")"
      ],
      "execution_count": null,
      "outputs": [
        {
          "output_type": "display_data",
          "data": {
            "image/png": "[encoded data removed]",
            "text/plain": [
              "<Figure size 432x288 with 1 Axes>"
            ]
          },
          "metadata": {
            "tags": [],
            "needs_background": "light"
          }
        },
        {
          "output_type": "display_data",
          "data": {
            "image/png": "[encoded data removed]",
            "text/plain": [
              "<Figure size 432x288 with 1 Axes>"
            ]
          },
          "metadata": {
            "tags": [],
            "needs_background": "light"
          }
        }
      ]
    },
    {
      "cell_type": "code",
      "metadata": {
        "colab": {
          "base_uri": "https://localhost:8080/"
        },
        "id": "6GVQ_CqUdR93",
        "outputId": "7f6f2e2b-5ac2-4dc1-9c68-025cb711111a"
      },
      "source": [
        "reverse_word_index = dict([(value, key) for (key, value) in word_index.items()])\n",
        "\n",
        "def decode_sentence(text):\n",
        "  return ' '.join([reverse_word_index.get(i, '?') for i in text])\n",
        "\n",
        "print(decode_sentence(training_padded[0]))\n",
        "print(training_sentences[2])\n",
        "print(labels[2])"
      ],
      "execution_count": null,
      "outputs": [
        {
          "output_type": "stream",
          "text": [
            "former <OOV> store clerk sues over secret 'black <OOV> for minority shoppers ? ? ? ? ? ? ? ? ? ? ? ? ? ? ? ? ? ? ? ? ? ? ? ? ? ? ? ? ? ? ? ? ? ? ? ? ? ? ? ? ? ? ? ? ? ? ? ? ? ? ? ? ? ? ? ? ? ? ? ? ? ? ? ? ? ? ? ? ? ? ? ? ? ? ? ? ? ? ? ? ? ? ? ? ? ? ? ?\n",
            "mom starting to fear son's web series closest thing she will have to grandchild\n",
            "1\n"
          ],
          "name": "stdout"
        }
      ]
    },
    {
      "cell_type": "code",
      "metadata": {
        "colab": {
          "base_uri": "https://localhost:8080/"
        },
        "id": "0gv_9E7Nd8AA",
        "outputId": "553b49c7-54c6-4080-d6a9-ab722adbf26f"
      },
      "source": [
        "e = model.layers[0]\n",
        "weights = e.get_weights()[0]\n",
        "print(weights.shape) #shapeL (vocab_size, embedding_dim)"
      ],
      "execution_count": null,
      "outputs": [
        {
          "output_type": "stream",
          "text": [
            "(10000, 100)\n"
          ],
          "name": "stdout"
        }
      ]
    },
    {
      "cell_type": "code",
      "metadata": {
        "id": "GSTHq_6seJkF"
      },
      "source": [
        "import io\n",
        "out_v = io.open('vecs.tsv', 'w', encoding = 'utf-8')\n",
        "out_m = io.open('meta.tsv', 'w', encoding = 'utf-8')\n",
        "\n",
        "for word_num in range(1, vocab_size):\n",
        "  word = reverse_word_index[word_num]\n",
        "  embeddings = weights[word_num]\n",
        "  out_m.write(word + \"\\n\")\n",
        "  out_v.write('\\t'.join([str(x) for x in embeddings]) + \"\\n\")\n",
        "out_v.close()\n",
        "out_m.close()"
      ],
      "execution_count": null,
      "outputs": []
    },
    {
      "cell_type": "code",
      "metadata": {
        "colab": {
          "base_uri": "https://localhost:8080/",
          "height": 17
        },
        "id": "I21pjxdSefO-",
        "outputId": "253d3a1d-c1fc-42cb-8c65-9a65c59a54dc"
      },
      "source": [
        "try:\n",
        "  from google.colab import files\n",
        "except ImportError:\n",
        "  pass\n",
        "else:\n",
        "  files.download('vecs.tsv')\n",
        "  files.download('meta.tsv')"
      ],
      "execution_count": null,
      "outputs": [
        {
          "output_type": "display_data",
          "data": {
            "application/javascript": [
              "\n",
              "    async function download(id, filename, size) {\n",
              "      if (!google.colab.kernel.accessAllowed) {\n",
              "        return;\n",
              "      }\n",
              "      const div = document.createElement('div');\n",
              "      const label = document.createElement('label');\n",
              "      label.textContent = `Downloading \"${filename}\": `;\n",
              "      div.appendChild(label);\n",
              "      const progress = document.createElement('progress');\n",
              "      progress.max = size;\n",
              "      div.appendChild(progress);\n",
              "      document.body.appendChild(div);\n",
              "\n",
              "      const buffers = [];\n",
              "      let downloaded = 0;\n",
              "\n",
              "      const channel = await google.colab.kernel.comms.open(id);\n",
              "      // Send a message to notify the kernel that we're ready.\n",
              "      channel.send({})\n",
              "\n",
              "      for await (const message of channel.messages) {\n",
              "        // Send a message to notify the kernel that we're ready.\n",
              "        channel.send({})\n",
              "        if (message.buffers) {\n",
              "          for (const buffer of message.buffers) {\n",
              "            buffers.push(buffer);\n",
              "            downloaded += buffer.byteLength;\n",
              "            progress.value = downloaded;\n",
              "          }\n",
              "        }\n",
              "      }\n",
              "      const blob = new Blob(buffers, {type: 'application/binary'});\n",
              "      const a = document.createElement('a');\n",
              "      a.href = window.URL.createObjectURL(blob);\n",
              "      a.download = filename;\n",
              "      div.appendChild(a);\n",
              "      a.click();\n",
              "      div.remove();\n",
              "    }\n",
              "  "
            ],
            "text/plain": [
              "<IPython.core.display.Javascript object>"
            ]
          },
          "metadata": {
            "tags": []
          }
        },
        {
          "output_type": "display_data",
          "data": {
            "application/javascript": [
              "download(\"download_65a7a2ef-a33f-4dbf-aefe-e19f5f6654db\", \"vecs.tsv\", 11476385)"
            ],
            "text/plain": [
              "<IPython.core.display.Javascript object>"
            ]
          },
          "metadata": {
            "tags": []
          }
        },
        {
          "output_type": "display_data",
          "data": {
            "application/javascript": [
              "\n",
              "    async function download(id, filename, size) {\n",
              "      if (!google.colab.kernel.accessAllowed) {\n",
              "        return;\n",
              "      }\n",
              "      const div = document.createElement('div');\n",
              "      const label = document.createElement('label');\n",
              "      label.textContent = `Downloading \"${filename}\": `;\n",
              "      div.appendChild(label);\n",
              "      const progress = document.createElement('progress');\n",
              "      progress.max = size;\n",
              "      div.appendChild(progress);\n",
              "      document.body.appendChild(div);\n",
              "\n",
              "      const buffers = [];\n",
              "      let downloaded = 0;\n",
              "\n",
              "      const channel = await google.colab.kernel.comms.open(id);\n",
              "      // Send a message to notify the kernel that we're ready.\n",
              "      channel.send({})\n",
              "\n",
              "      for await (const message of channel.messages) {\n",
              "        // Send a message to notify the kernel that we're ready.\n",
              "        channel.send({})\n",
              "        if (message.buffers) {\n",
              "          for (const buffer of message.buffers) {\n",
              "            buffers.push(buffer);\n",
              "            downloaded += buffer.byteLength;\n",
              "            progress.value = downloaded;\n",
              "          }\n",
              "        }\n",
              "      }\n",
              "      const blob = new Blob(buffers, {type: 'application/binary'});\n",
              "      const a = document.createElement('a');\n",
              "      a.href = window.URL.createObjectURL(blob);\n",
              "      a.download = filename;\n",
              "      div.appendChild(a);\n",
              "      a.click();\n",
              "      div.remove();\n",
              "    }\n",
              "  "
            ],
            "text/plain": [
              "<IPython.core.display.Javascript object>"
            ]
          },
          "metadata": {
            "tags": []
          }
        },
        {
          "output_type": "display_data",
          "data": {
            "application/javascript": [
              "download(\"download_d69a170e-eda2-4c84-b0ab-9c5e388d7ff4\", \"meta.tsv\", 75974)"
            ],
            "text/plain": [
              "<IPython.core.display.Javascript object>"
            ]
          },
          "metadata": {
            "tags": []
          }
        }
      ]
    },
    {
      "cell_type": "code",
      "metadata": {
        "colab": {
          "base_uri": "https://localhost:8080/"
        },
        "id": "T4JuG-4Keh3-",
        "outputId": "b4792a35-020e-4b57-b4c5-ba8ecb394977"
      },
      "source": [
        "sentence = [\n",
        "            \"granny starting to fear spiders in the garden might be real\",\n",
        "            \"game of thrones season finale showing this sunday night\"\n",
        "            ]\n",
        "sequences = tokenizer.texts_to_sequences(sentence)\n",
        "padded = pad_sequences(sequences, maxlen=max_length, padding=padding_type, \n",
        "                       truncating=truncation_type)\n",
        "print(model.predict(padded))"
      ],
      "execution_count": null,
      "outputs": [
        {
          "output_type": "stream",
          "text": [
            "[[9.2109168e-01]\n",
            " [5.3391944e-09]]\n"
          ],
          "name": "stdout"
        }
      ]
    },
    {
      "cell_type": "markdown",
      "metadata": {
        "id": "jXhS1kydfxWF"
      },
      "source": [
        "As we see the first sentence is close to sarcastic and second sentence is close to zero indicating it less likely to be sarcastic."
      ]
    }
  ]
}