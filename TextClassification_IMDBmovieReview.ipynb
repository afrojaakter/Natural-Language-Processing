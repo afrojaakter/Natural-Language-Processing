{
  "nbformat": 4,
  "nbformat_minor": 0,
  "metadata": {
    "colab": {
      "name": "TextClassification_movieReview.ipynb",
      "provenance": [],
      "authorship_tag": "ABX9TyOr7dtyU6Zx9vOSMW4sW1qN",
      "include_colab_link": true
    },
    "kernelspec": {
      "name": "python3",
      "display_name": "Python 3"
    },
    "language_info": {
      "name": "python"
    },
    "accelerator": "GPU"
  },
  "cells": [
    {
      "cell_type": "markdown",
      "metadata": {
        "id": "view-in-github",
        "colab_type": "text"
      },
      "source": [
        "<a href=\"https://colab.research.google.com/github/afrojaakter/Natural-Language-Processing/blob/main/TextClassification_IMDBmovieReview.ipynb\" target=\"_parent\"><img src=\"https://colab.research.google.com/assets/colab-badge.svg\" alt=\"Open In Colab\"/></a>"
      ]
    },
    {
      "cell_type": "markdown",
      "metadata": {
        "id": "hfP6bII1VcSF"
      },
      "source": [
        "###Text Classification with Movie Reviews"
      ]
    },
    {
      "cell_type": "markdown",
      "metadata": {
        "id": "1XdZv5UhNb8E"
      },
      "source": [
        "This notebook will classify movie reviews as positive or negative using the review text. \n",
        "\n",
        "We'll use the [IMDB dataset](https://www.tensorflow.org/api_docs/python/tf/keras/datasets/imdb) consisting of 50,000 movie reviews from the [Internet Movie Database](https://www.imdb.com/). 50% of the dataset is for training and the rest is for testing. The train and test dataset has equal number of positive and negative reviews.\n",
        "\n",
        "I will use [keras](https://www.tensorflow.org/guide/keras), a API to built and train model in Tensorflow and [TensorFlow Hub](https://www.tensorflow.org/hub), a library and platform for transfer learning."
      ]
    },
    {
      "cell_type": "code",
      "metadata": {
        "colab": {
          "base_uri": "https://localhost:8080/"
        },
        "id": "l8FHr7I2NSl0",
        "outputId": "44534d6f-6261-499d-863b-f49a7fc96a51"
      },
      "source": [
        "# setup\n",
        "import numpy as np\n",
        "import tensorflow as tf\n",
        "import tensorflow_datasets as tdfs\n",
        "import tensorflow_hub as hub\n",
        "import matplotlib.pyplot as plt\n",
        "\n",
        "print(\"version: \", tf.__version__)\n",
        "print(\"Eager mode: \", tf.executing_eagerly())\n",
        "print(\"Hub version: \", hub.__version__)\n",
        "print(\"GPU is\", \"availabel\" if tf.config.list_physical_devices('GPU') else \"Not Available\")"
      ],
      "execution_count": 1,
      "outputs": [
        {
          "output_type": "stream",
          "text": [
            "version:  2.5.0\n",
            "Eager mode:  True\n",
            "Hub version:  0.12.0\n",
            "GPU is availabel\n"
          ],
          "name": "stdout"
        }
      ]
    },
    {
      "cell_type": "code",
      "metadata": {
        "id": "waHbs5TEg7sO"
      },
      "source": [
        "# Download the IMDB dataset\n",
        "train_data, test_data = tdfs.load(name = \"imdb_reviews\", split=[\"train\", \"test\"],\n",
        "                                  batch_size = -1, as_supervised = True)\n",
        "train_examples, train_labels = tdfs.as_numpy(train_data)\n",
        "test_examples, test_labels = tdfs.as_numpy(test_data)"
      ],
      "execution_count": 2,
      "outputs": []
    },
    {
      "cell_type": "code",
      "metadata": {
        "colab": {
          "base_uri": "https://localhost:8080/"
        },
        "id": "NbVT6nyZh3ui",
        "outputId": "898a9bd5-eb5e-4ebb-803c-ea51c483e0d7"
      },
      "source": [
        "#Explore the data\n",
        "print(\"Training entries: {}, test entries: {}\".format(len(train_examples), len(test_examples)))"
      ],
      "execution_count": 3,
      "outputs": [
        {
          "output_type": "stream",
          "text": [
            "Training entries: 25000, test entries: 25000\n"
          ],
          "name": "stdout"
        }
      ]
    },
    {
      "cell_type": "code",
      "metadata": {
        "colab": {
          "base_uri": "https://localhost:8080/"
        },
        "id": "HYd2z7OWik3B",
        "outputId": "c9cb613a-d56e-44da-9824-8c6bd6a35912"
      },
      "source": [
        "print(\"training input examples: \\n{},\\n\\ntraining label examples: {}\".format(train_examples[:5], train_labels[:5]))\n"
      ],
      "execution_count": 4,
      "outputs": [
        {
          "output_type": "stream",
          "text": [
            "training input examples: \n",
            "[b\"This was an absolutely terrible movie. Don't be lured in by Christopher Walken or Michael Ironside. Both are great actors, but this must simply be their worst role in history. Even their great acting could not redeem this movie's ridiculous storyline. This movie is an early nineties US propaganda piece. The most pathetic scenes were those when the Columbian rebels were making their cases for revolutions. Maria Conchita Alonso appeared phony, and her pseudo-love affair with Walken was nothing but a pathetic emotional plug in a movie that was devoid of any real meaning. I am disappointed that there are movies like this, ruining actor's like Christopher Walken's good name. I could barely sit through it.\"\n",
            " b'I have been known to fall asleep during films, but this is usually due to a combination of things including, really tired, being warm and comfortable on the sette and having just eaten a lot. However on this occasion I fell asleep because the film was rubbish. The plot development was constant. Constantly slow and boring. Things seemed to happen, but with no explanation of what was causing them or why. I admit, I may have missed part of the film, but i watched the majority of it and everything just seemed to happen of its own accord without any real concern for anything else. I cant recommend this film at all.'\n",
            " b'Mann photographs the Alberta Rocky Mountains in a superb fashion, and Jimmy Stewart and Walter Brennan give enjoyable performances as they always seem to do. <br /><br />But come on Hollywood - a Mountie telling the people of Dawson City, Yukon to elect themselves a marshal (yes a marshal!) and to enforce the law themselves, then gunfighters battling it out on the streets for control of the town? <br /><br />Nothing even remotely resembling that happened on the Canadian side of the border during the Klondike gold rush. Mr. Mann and company appear to have mistaken Dawson City for Deadwood, the Canadian North for the American Wild West.<br /><br />Canadian viewers be prepared for a Reefer Madness type of enjoyable howl with this ludicrous plot, or, to shake your head in disgust.'\n",
            " b'This is the kind of film for a snowy Sunday afternoon when the rest of the world can go ahead with its own business as you descend into a big arm-chair and mellow for a couple of hours. Wonderful performances from Cher and Nicolas Cage (as always) gently row the plot along. There are no rapids to cross, no dangerous waters, just a warm and witty paddle through New York life at its best. A family film in every sense and one that deserves the praise it received.'\n",
            " b'As others have mentioned, all the women that go nude in this film are mostly absolutely gorgeous. The plot very ably shows the hypocrisy of the female libido. When men are around they want to be pursued, but when no \"men\" are around, they become the pursuers of a 14 year old boy. And the boy becomes a man really fast (we should all be so lucky at this age!). He then gets up the courage to pursue his true love.'],\n",
            "\n",
            "training label examples: [0 0 0 1 1]\n"
          ],
          "name": "stdout"
        }
      ]
    },
    {
      "cell_type": "markdown",
      "metadata": {
        "id": "cOaUBjFGkImP"
      },
      "source": [
        "### Build model:\n",
        "\n",
        "In this case I will use transfer learning, which will take care of all data preprocessing (e.g. sequence data, embedding etc)\n",
        " I will use a model from [TensorFlow Hub](https://www.tensorflow.org/hub) called [google/nnlm-en-dim50/2](https://tfhub.dev/google/nnlm-en-dim50/2). nnlm-en-dim50 model splits the sentence into tokens, embeds each token and then combines the embeddings. The resulting dimensions are : `(num_examples, embedding_dimension)`.\n"
      ]
    },
    {
      "cell_type": "code",
      "metadata": {
        "colab": {
          "base_uri": "https://localhost:8080/"
        },
        "id": "7hjEJTqGmbNP",
        "outputId": "1c5507dd-c0af-4a7e-d936-8b9d5ec07993"
      },
      "source": [
        "# create a keras layer using Tensorflow Hub model to embed the sentences\n",
        "model = \"https://tfhub.dev/google/nnlm-en-dim50/2\"\n",
        "hub_layer = hub.KerasLayer(model, input_shape=[], dtype=tf.string, trainable=True)\n",
        "#try the emdeded sentences on two train examples\n",
        "print(hub_layer(train_examples[:2]))"
      ],
      "execution_count": 26,
      "outputs": [
        {
          "output_type": "execute_result",
          "data": {
            "text/plain": [
              "<tf.Tensor: shape=(2, 50), dtype=float32, numpy=\n",
              "array([[ 0.5423195 , -0.0119017 ,  0.06337538,  0.06862972, -0.16776837,\n",
              "        -0.10581174,  0.16865303, -0.04998824, -0.31148055,  0.07910346,\n",
              "         0.15442263,  0.01488662,  0.03930153,  0.19772711, -0.12215476,\n",
              "        -0.04120981, -0.2704109 , -0.21922152,  0.26517662, -0.80739075,\n",
              "         0.25833532, -0.3100421 ,  0.28683215,  0.1943387 , -0.29036492,\n",
              "         0.03862849, -0.7844411 , -0.0479324 ,  0.4110299 , -0.36388892,\n",
              "        -0.58034706,  0.30269456,  0.3630897 , -0.15227164, -0.44391504,\n",
              "         0.19462997,  0.19528408,  0.05666234,  0.2890704 , -0.28468323,\n",
              "        -0.00531206,  0.0571938 , -0.3201318 , -0.04418665, -0.08550783,\n",
              "        -0.55847436, -0.23336391, -0.20782952, -0.03543064, -0.17533456],\n",
              "       [ 0.56338924, -0.12339553, -0.10862679,  0.7753425 , -0.07667089,\n",
              "        -0.15752277,  0.01872335, -0.08169781, -0.3521876 ,  0.4637341 ,\n",
              "        -0.08492756,  0.07166859, -0.00670817,  0.12686075, -0.19326553,\n",
              "        -0.52626437, -0.3295823 ,  0.14394785,  0.09043556, -0.5417555 ,\n",
              "         0.02468163, -0.15456742,  0.68333143,  0.09068331, -0.45327246,\n",
              "         0.23180096, -0.8615696 ,  0.34480393,  0.12838456, -0.58759046,\n",
              "        -0.4071231 ,  0.23061076,  0.48426893, -0.27128142, -0.5380916 ,\n",
              "         0.47016326,  0.22572741, -0.00830663,  0.2846242 , -0.304985  ,\n",
              "         0.04400365,  0.25025874,  0.14867121,  0.40717036, -0.15422426,\n",
              "        -0.06878027, -0.40825695, -0.3149215 ,  0.09283665, -0.20183425]],\n",
              "      dtype=float32)>"
            ]
          },
          "metadata": {
            "tags": []
          },
          "execution_count": 26
        }
      ]
    },
    {
      "cell_type": "code",
      "metadata": {
        "colab": {
          "base_uri": "https://localhost:8080/"
        },
        "id": "cSIkiuGapOYl",
        "outputId": "6b6ab059-1989-4ae1-cc7f-eaec08d48da0"
      },
      "source": [
        "# build model\n",
        "\n",
        "model = tf.keras.Sequential()\n",
        "model.add(hub_layer)  #uses saved pre-traned model to map a sentence to embedding vector\n",
        "model.add(tf.keras.layers.Dense(16, activation='relu'))\n",
        "model.add(tf.keras.layers.Dense(1))\n",
        "\n",
        "model.summary()"
      ],
      "execution_count": 33,
      "outputs": [
        {
          "output_type": "stream",
          "text": [
            "Model: \"sequential\"\n",
            "_________________________________________________________________\n",
            "Layer (type)                 Output Shape              Param #   \n",
            "=================================================================\n",
            "keras_layer_1 (KerasLayer)   (None, 50)                48190600  \n",
            "_________________________________________________________________\n",
            "dense (Dense)                (None, 16)                816       \n",
            "_________________________________________________________________\n",
            "dense_1 (Dense)              (None, 1)                 17        \n",
            "=================================================================\n",
            "Total params: 48,191,433\n",
            "Trainable params: 48,191,433\n",
            "Non-trainable params: 0\n",
            "_________________________________________________________________\n"
          ],
          "name": "stdout"
        }
      ]
    },
    {
      "cell_type": "code",
      "metadata": {
        "id": "rkpait__txDs"
      },
      "source": [
        "model.compile(optimizer='adam',\n",
        "              loss=tf.losses.BinaryCrossentropy(from_logits=True),\n",
        "              metrics = [tf.metrics.BinaryAccuracy(threshold=0.0, name='accuracy')])\n"
      ],
      "execution_count": 34,
      "outputs": []
    },
    {
      "cell_type": "code",
      "metadata": {
        "id": "Yf_UzGnNuGKr"
      },
      "source": [
        "# creating a validation set of 10000 examples from the traning data to check the model accuracy on unseen data\n",
        "val_length = 10000\n",
        "x_val = train_examples[:val_length]\n",
        "partial_x_train = train_examples[val_length:]\n",
        "\n",
        "y_val = train_labels[:val_length]\n",
        "partial_y_train = train_labels[val_length:]"
      ],
      "execution_count": 35,
      "outputs": []
    },
    {
      "cell_type": "code",
      "metadata": {
        "colab": {
          "base_uri": "https://localhost:8080/"
        },
        "id": "ML5veanJuwWN",
        "outputId": "8aa6f594-024b-4b58-b149-8b049c9534a9"
      },
      "source": [
        "#train the model\n",
        "history = model.fit(partial_x_train, partial_y_train, epochs=40,\n",
        "                    batch_size=512, validation_data=(x_val, y_val),\n",
        "                    verbose=1)"
      ],
      "execution_count": 36,
      "outputs": [
        {
          "output_type": "stream",
          "text": [
            "Epoch 1/40\n",
            "30/30 [==============================] - 5s 67ms/step - loss: 0.6460 - accuracy: 0.6453 - val_loss: 0.5943 - val_accuracy: 0.7177\n",
            "Epoch 2/40\n",
            "30/30 [==============================] - 2s 57ms/step - loss: 0.5273 - accuracy: 0.7808 - val_loss: 0.4904 - val_accuracy: 0.7960\n",
            "Epoch 3/40\n",
            "30/30 [==============================] - 2s 58ms/step - loss: 0.4015 - accuracy: 0.8569 - val_loss: 0.4017 - val_accuracy: 0.8365\n",
            "Epoch 4/40\n",
            "30/30 [==============================] - 2s 58ms/step - loss: 0.2959 - accuracy: 0.8998 - val_loss: 0.3475 - val_accuracy: 0.8557\n",
            "Epoch 5/40\n",
            "30/30 [==============================] - 2s 58ms/step - loss: 0.2189 - accuracy: 0.9313 - val_loss: 0.3183 - val_accuracy: 0.8661\n",
            "Epoch 6/40\n",
            "30/30 [==============================] - 2s 56ms/step - loss: 0.1618 - accuracy: 0.9519 - val_loss: 0.3107 - val_accuracy: 0.8720\n",
            "Epoch 7/40\n",
            "30/30 [==============================] - 2s 58ms/step - loss: 0.1188 - accuracy: 0.9691 - val_loss: 0.3036 - val_accuracy: 0.8752\n",
            "Epoch 8/40\n",
            "30/30 [==============================] - 2s 58ms/step - loss: 0.0862 - accuracy: 0.9821 - val_loss: 0.3077 - val_accuracy: 0.8754\n",
            "Epoch 9/40\n",
            "30/30 [==============================] - 2s 57ms/step - loss: 0.0623 - accuracy: 0.9899 - val_loss: 0.3180 - val_accuracy: 0.8751\n",
            "Epoch 10/40\n",
            "30/30 [==============================] - 2s 57ms/step - loss: 0.0447 - accuracy: 0.9953 - val_loss: 0.3270 - val_accuracy: 0.8745\n",
            "Epoch 11/40\n",
            "30/30 [==============================] - 2s 57ms/step - loss: 0.0327 - accuracy: 0.9975 - val_loss: 0.3376 - val_accuracy: 0.8740\n",
            "Epoch 12/40\n",
            "30/30 [==============================] - 2s 57ms/step - loss: 0.0241 - accuracy: 0.9988 - val_loss: 0.3497 - val_accuracy: 0.8732\n",
            "Epoch 13/40\n",
            "30/30 [==============================] - 2s 56ms/step - loss: 0.0183 - accuracy: 0.9993 - val_loss: 0.3617 - val_accuracy: 0.8712\n",
            "Epoch 14/40\n",
            "30/30 [==============================] - 2s 57ms/step - loss: 0.0141 - accuracy: 0.9997 - val_loss: 0.3731 - val_accuracy: 0.8711\n",
            "Epoch 15/40\n",
            "30/30 [==============================] - 2s 57ms/step - loss: 0.0111 - accuracy: 0.9998 - val_loss: 0.3840 - val_accuracy: 0.8710\n",
            "Epoch 16/40\n",
            "30/30 [==============================] - 2s 59ms/step - loss: 0.0089 - accuracy: 0.9999 - val_loss: 0.3954 - val_accuracy: 0.8701\n",
            "Epoch 17/40\n",
            "30/30 [==============================] - 2s 57ms/step - loss: 0.0070 - accuracy: 1.0000 - val_loss: 0.4083 - val_accuracy: 0.8693\n",
            "Epoch 18/40\n",
            "30/30 [==============================] - 2s 57ms/step - loss: 0.0055 - accuracy: 1.0000 - val_loss: 0.4225 - val_accuracy: 0.8694\n",
            "Epoch 19/40\n",
            "30/30 [==============================] - 2s 57ms/step - loss: 0.0043 - accuracy: 1.0000 - val_loss: 0.4369 - val_accuracy: 0.8688\n",
            "Epoch 20/40\n",
            "30/30 [==============================] - 2s 57ms/step - loss: 0.0034 - accuracy: 1.0000 - val_loss: 0.4502 - val_accuracy: 0.8684\n",
            "Epoch 21/40\n",
            "30/30 [==============================] - 2s 58ms/step - loss: 0.0027 - accuracy: 1.0000 - val_loss: 0.4639 - val_accuracy: 0.8685\n",
            "Epoch 22/40\n",
            "30/30 [==============================] - 2s 57ms/step - loss: 0.0022 - accuracy: 1.0000 - val_loss: 0.4751 - val_accuracy: 0.8677\n",
            "Epoch 23/40\n",
            "30/30 [==============================] - 2s 57ms/step - loss: 0.0018 - accuracy: 1.0000 - val_loss: 0.4875 - val_accuracy: 0.8683\n",
            "Epoch 24/40\n",
            "30/30 [==============================] - 2s 57ms/step - loss: 0.0015 - accuracy: 1.0000 - val_loss: 0.4992 - val_accuracy: 0.8681\n",
            "Epoch 25/40\n",
            "30/30 [==============================] - 2s 57ms/step - loss: 0.0013 - accuracy: 1.0000 - val_loss: 0.5086 - val_accuracy: 0.8674\n",
            "Epoch 26/40\n",
            "30/30 [==============================] - 2s 58ms/step - loss: 0.0011 - accuracy: 1.0000 - val_loss: 0.5188 - val_accuracy: 0.8674\n",
            "Epoch 27/40\n",
            "30/30 [==============================] - 2s 58ms/step - loss: 9.7305e-04 - accuracy: 1.0000 - val_loss: 0.5287 - val_accuracy: 0.8666\n",
            "Epoch 28/40\n",
            "30/30 [==============================] - 2s 57ms/step - loss: 8.5195e-04 - accuracy: 1.0000 - val_loss: 0.5365 - val_accuracy: 0.8675\n",
            "Epoch 29/40\n",
            "30/30 [==============================] - 2s 57ms/step - loss: 7.4955e-04 - accuracy: 1.0000 - val_loss: 0.5449 - val_accuracy: 0.8669\n",
            "Epoch 30/40\n",
            "30/30 [==============================] - 2s 57ms/step - loss: 6.6554e-04 - accuracy: 1.0000 - val_loss: 0.5519 - val_accuracy: 0.8665\n",
            "Epoch 31/40\n",
            "30/30 [==============================] - 2s 57ms/step - loss: 5.9657e-04 - accuracy: 1.0000 - val_loss: 0.5597 - val_accuracy: 0.8665\n",
            "Epoch 32/40\n",
            "30/30 [==============================] - 2s 57ms/step - loss: 5.3710e-04 - accuracy: 1.0000 - val_loss: 0.5673 - val_accuracy: 0.8668\n",
            "Epoch 33/40\n",
            "30/30 [==============================] - 2s 59ms/step - loss: 4.8594e-04 - accuracy: 1.0000 - val_loss: 0.5735 - val_accuracy: 0.8664\n",
            "Epoch 34/40\n",
            "30/30 [==============================] - 2s 57ms/step - loss: 4.4200e-04 - accuracy: 1.0000 - val_loss: 0.5792 - val_accuracy: 0.8671\n",
            "Epoch 35/40\n",
            "30/30 [==============================] - 2s 57ms/step - loss: 4.0317e-04 - accuracy: 1.0000 - val_loss: 0.5867 - val_accuracy: 0.8664\n",
            "Epoch 36/40\n",
            "30/30 [==============================] - 2s 57ms/step - loss: 3.6954e-04 - accuracy: 1.0000 - val_loss: 0.5925 - val_accuracy: 0.8664\n",
            "Epoch 37/40\n",
            "30/30 [==============================] - 2s 57ms/step - loss: 3.3974e-04 - accuracy: 1.0000 - val_loss: 0.5971 - val_accuracy: 0.8669\n",
            "Epoch 38/40\n",
            "30/30 [==============================] - 2s 57ms/step - loss: 3.1366e-04 - accuracy: 1.0000 - val_loss: 0.6031 - val_accuracy: 0.8670\n",
            "Epoch 39/40\n",
            "30/30 [==============================] - 2s 58ms/step - loss: 2.9023e-04 - accuracy: 1.0000 - val_loss: 0.6086 - val_accuracy: 0.8673\n",
            "Epoch 40/40\n",
            "30/30 [==============================] - 2s 58ms/step - loss: 2.6966e-04 - accuracy: 1.0000 - val_loss: 0.6144 - val_accuracy: 0.8665\n"
          ],
          "name": "stdout"
        }
      ]
    },
    {
      "cell_type": "code",
      "metadata": {
        "colab": {
          "base_uri": "https://localhost:8080/"
        },
        "id": "S80XEn1xvJVu",
        "outputId": "b1638be8-2ce7-41f7-d94a-0f25298cf3c7"
      },
      "source": [
        "#Evaluate the model: two values will return [loss, accuracy]\n",
        "results = model.evaluate(test_data, test_labels)\n",
        "print(results)"
      ],
      "execution_count": 40,
      "outputs": [
        {
          "output_type": "stream",
          "text": [
            "782/782 [==============================] - 4s 5ms/step - loss: 0.6944 - accuracy: 0.8453\n",
            "[0.6943610310554504, 0.8452799916267395]\n"
          ],
          "name": "stdout"
        }
      ]
    },
    {
      "cell_type": "markdown",
      "metadata": {
        "id": "Hze_lFKiwEVz"
      },
      "source": [
        "the model achieves 85% accuracy on test data."
      ]
    },
    {
      "cell_type": "code",
      "metadata": {
        "colab": {
          "base_uri": "https://localhost:8080/",
          "height": 295
        },
        "id": "kbmNSsZbvpc6",
        "outputId": "0fe2e8ff-3b58-4b20-cf52-c4f9cdf725df"
      },
      "source": [
        "history_dict = history.history\n",
        "history_dict.keys()\n",
        "\n",
        "#plotting train and validation error\n",
        "acc = history_dict['accuracy']\n",
        "val_acc = history_dict['val_accuracy']\n",
        "loss = history_dict['loss']\n",
        "val_loss = history_dict['val_loss']\n",
        "\n",
        "epochs = range(1, len(acc) + 1)\n",
        "\n",
        "# \"bo\" is for \"blue dot\"\n",
        "plt.plot(epochs, loss, label='Training loss')\n",
        "# b is for \"solid blue line\"\n",
        "plt.plot(epochs, val_loss, label='Validation loss')\n",
        "plt.title('Training and validation loss')\n",
        "plt.xlabel('Epochs')\n",
        "plt.ylabel('Loss')\n",
        "plt.legend()\n",
        "\n",
        "plt.show()"
      ],
      "execution_count": 47,
      "outputs": [
        {
          "output_type": "display_data",
          "data": {
            "image/png": "[encoded data removed]",
            "text/plain": [
              "<Figure size 432x288 with 1 Axes>"
            ]
          },
          "metadata": {
            "tags": [],
            "needs_background": "light"
          }
        }
      ]
    },
    {
      "cell_type": "code",
      "metadata": {
        "colab": {
          "base_uri": "https://localhost:8080/",
          "height": 295
        },
        "id": "iIYar7xaweXD",
        "outputId": "48378c59-fb42-4955-e74b-debcf7125404"
      },
      "source": [
        "plt.clf()   # clear figure\n",
        "\n",
        "plt.plot(epochs, acc, label='Training acc')\n",
        "plt.plot(epochs, val_acc, label='Validation acc')\n",
        "plt.title('Training and validation accuracy')\n",
        "plt.xlabel('Epochs')\n",
        "plt.ylabel('Accuracy')\n",
        "plt.legend()\n",
        "\n",
        "plt.show()"
      ],
      "execution_count": 48,
      "outputs": [
        {
          "output_type": "display_data",
          "data": {
            "image/png": "[encoded data removed]",
            "text/plain": [
              "<Figure size 432x288 with 1 Axes>"
            ]
          },
          "metadata": {
            "tags": [],
            "needs_background": "light"
          }
        }
      ]
    },
    {
      "cell_type": "markdown",
      "metadata": {
        "id": "yf55JcdYxFLm"
      },
      "source": [
        "###Model 2:\n",
        "Training with a larger model [google/nnlm-en-dim128-with-normalization/2 ](https://tfhub.dev/google/nnlm-en-dim128-with-normalization/2)with embedding dimension 128 instead of 50. "
      ]
    },
    {
      "cell_type": "code",
      "metadata": {
        "colab": {
          "base_uri": "https://localhost:8080/"
        },
        "id": "kblpuJQSxFYU",
        "outputId": "a5ac68a4-6805-46d8-b9d2-bd36505072e1"
      },
      "source": [
        "# create a keras layer using Tensorflow Hub model to embed the sentences\n",
        "model = \"https://tfhub.dev/google/nnlm-en-dim128-with-normalization/2\"\n",
        "hub_layer = hub.KerasLayer(model, input_shape=[], dtype=tf.string, trainable=True)\n",
        "#try the emdeded sentences on two train examples\n",
        "print(hub_layer(train_examples[:2]))"
      ],
      "execution_count": 6,
      "outputs": [
        {
          "output_type": "stream",
          "text": [
            "tf.Tensor(\n",
            "[[ 1.15015078e+00  7.80129954e-02  9.26615447e-02  2.83361465e-01\n",
            "   9.67164431e-03 -1.49186030e-01  3.35665703e-01 -3.50244790e-01\n",
            "  -8.28830525e-03 -1.87713988e-02 -3.33069712e-02 -6.33094192e-01\n",
            "  -3.75421166e-01 -2.77732819e-01 -9.66175571e-02  1.72553658e-01\n",
            "  -1.33676559e-01  3.80765833e-02 -2.75138170e-01  4.94762301e-01\n",
            "   3.93051691e-02  1.34496242e-01 -2.70728201e-01  1.78942848e-02\n",
            "  -2.41071597e-01  2.71089897e-02  1.02333426e-01 -1.06628530e-01\n",
            "   5.24298586e-02  1.19170524e-01 -6.67077769e-03  3.39231491e-01\n",
            "   1.13014966e-01  1.06842607e-01  3.91571254e-01 -1.89536318e-01\n",
            "  -1.74000308e-01 -1.06444173e-01 -1.34200469e-01  1.73583925e-01\n",
            "  -2.77695030e-01 -4.33591381e-02 -3.91500629e-02 -1.98340908e-01\n",
            "   2.74854768e-02  2.76703000e-01  1.40702859e-01 -3.14256102e-01\n",
            "   2.47569364e-02 -1.67308271e-01  8.21740329e-02 -9.56841931e-02\n",
            "  -2.57335782e-01  3.72914702e-01 -2.21059933e-01 -2.14436874e-01\n",
            "  -5.83256148e-02  1.50036871e-01 -1.67723849e-01 -8.02809969e-02\n",
            "  -2.11373463e-01 -3.98309948e-03  6.34767562e-02  6.65168911e-02\n",
            "   9.25246179e-02  1.13278821e-01 -1.00958936e-01 -2.20176309e-01\n",
            "   3.49875212e-01  4.98270951e-02 -1.59279153e-01  2.82200038e-01\n",
            "   4.36919443e-02  1.83730405e-02 -7.30237225e-03  1.22521035e-01\n",
            "  -5.63407652e-02 -2.07715422e-01 -2.37706855e-01  1.89738169e-01\n",
            "   1.00460403e-01 -2.07205489e-01 -2.70957381e-01  3.19231898e-02\n",
            "  -5.62466159e-02  3.81587371e-02 -1.47694096e-01  1.41778007e-01\n",
            "   9.03146327e-01  8.36536825e-01 -2.31574446e-01  2.83275157e-01\n",
            "   1.09397292e-01 -2.45359987e-01  8.62814263e-02  2.20005468e-01\n",
            "   1.32306591e-01  1.03527270e-02  1.06135823e-01 -5.05983084e-03\n",
            "  -4.26607765e-02 -1.62250139e-02  3.30362797e-01  2.33826548e-01\n",
            "   9.50708836e-02 -3.50534439e-01 -1.20180845e-01  6.44739345e-02\n",
            "  -2.22685322e-01  7.50750527e-02 -2.80554652e-01 -1.96979884e-02\n",
            "  -2.63545483e-01 -3.05303365e-01 -4.47772034e-02 -2.46705115e-01\n",
            "   1.19342998e-01  8.74264687e-02 -2.25616619e-02  1.70262545e-01\n",
            "   7.61279240e-02 -3.06843013e-01 -5.01325354e-02  3.45908731e-01\n",
            "  -1.52096420e-03 -2.55827993e-01  1.65855333e-01 -2.58007888e-02]\n",
            " [ 1.52354658e+00  3.32376994e-02  1.66283831e-01  3.49779010e-01\n",
            "   1.16704017e-01 -1.37402371e-01  2.24335238e-01 -2.52213776e-01\n",
            "   6.18566796e-02  1.49286509e-01  2.26167157e-01 -4.01730090e-01\n",
            "  -3.85119438e-01 -1.24227531e-01 -2.31498346e-01  1.82310238e-01\n",
            "  -8.79664570e-02 -3.30210999e-02 -3.57700914e-01  6.12851679e-01\n",
            "   2.80654997e-01  1.88463286e-01 -9.48799849e-02 -6.51390851e-03\n",
            "  -4.95846197e-02 -1.12557530e-01  2.30208501e-01 -2.94450037e-02\n",
            "  -1.71247825e-01  5.84451668e-02 -7.85206184e-02  1.85191780e-01\n",
            "   1.74413934e-01  4.44407649e-02  2.35947430e-01  7.82060325e-02\n",
            "  -1.22543536e-01 -4.02029991e-01  3.57941240e-02  2.91599333e-01\n",
            "  -1.16091937e-01 -5.04460856e-02 -1.24564776e-02 -1.52101442e-01\n",
            "   4.88304086e-02  2.45040268e-01  1.88039511e-01  5.93084805e-02\n",
            "  -1.52169779e-01  1.44652337e-01  1.41917974e-01  1.01835147e-01\n",
            "  -6.39419183e-02  1.74528360e-01 -3.32837820e-01 -2.24371359e-01\n",
            "  -1.61553454e-02 -5.11539616e-02  2.01643929e-01  7.71175101e-02\n",
            "  -1.81447953e-01  7.32668117e-02  2.72182465e-01 -1.49451211e-01\n",
            "  -4.97367680e-02  7.49207214e-02  5.87206986e-03 -1.47187829e-01\n",
            "   2.22975671e-01 -1.18601754e-01 -3.09471488e-01  1.94988668e-01\n",
            "   4.72114049e-02 -1.37738645e-01 -1.47181496e-01  1.92691296e-01\n",
            "  -2.37557776e-02 -3.08101147e-01  6.72790781e-02  8.87041092e-02\n",
            "   2.61804014e-01 -4.71980534e-02  5.65208010e-02 -4.13714610e-02\n",
            "   9.23642050e-03 -6.09218925e-02 -4.92727429e-01  1.33994877e-01\n",
            "   1.11824179e+00  5.58933198e-01 -3.65284868e-02  1.47231624e-01\n",
            "  -4.77895141e-02 -1.74497068e-01  1.81616277e-01  8.93370286e-02\n",
            "   1.38356447e-01 -1.68069705e-01 -7.78260604e-02  8.74290317e-02\n",
            "   1.35343689e-02  6.48171380e-02  3.71694863e-01  9.74644721e-02\n",
            "   6.03579469e-02 -1.52941823e-01 -2.27041945e-01  1.17899276e-01\n",
            "  -3.28250021e-01  1.63627833e-01 -5.73002934e-01 -2.16464829e-02\n",
            "  -2.74008572e-01 -2.00568438e-01 -4.26811576e-02 -4.34408367e-01\n",
            "  -4.22911607e-02 -8.21549632e-03 -1.38496151e-02  9.50264111e-02\n",
            "   2.34699503e-01 -2.57590383e-01  1.18056901e-01  1.75433099e-01\n",
            "  -6.00582547e-02 -2.59853274e-01  5.85031174e-02  5.13857305e-02]], shape=(2, 128), dtype=float32)\n"
          ],
          "name": "stdout"
        }
      ]
    },
    {
      "cell_type": "code",
      "metadata": {
        "colab": {
          "base_uri": "https://localhost:8080/"
        },
        "id": "ixe6Y3UJxO4Z",
        "outputId": "35c1b249-66cb-465b-e907-efe0dddbc6cc"
      },
      "source": [
        "# build model\n",
        "\n",
        "model = tf.keras.Sequential()\n",
        "model.add(hub_layer)  #uses saved pre-traned model to map a sentence to embedding vector\n",
        "model.add(tf.keras.layers.Dense(16, activation='relu'))\n",
        "model.add(tf.keras.layers.Dense(1))\n",
        "\n",
        "model.summary()"
      ],
      "execution_count": 7,
      "outputs": [
        {
          "output_type": "stream",
          "text": [
            "Model: \"sequential\"\n",
            "_________________________________________________________________\n",
            "Layer (type)                 Output Shape              Param #   \n",
            "=================================================================\n",
            "keras_layer_1 (KerasLayer)   (None, 128)               124642688 \n",
            "_________________________________________________________________\n",
            "dense (Dense)                (None, 16)                2064      \n",
            "_________________________________________________________________\n",
            "dense_1 (Dense)              (None, 1)                 17        \n",
            "=================================================================\n",
            "Total params: 124,644,769\n",
            "Trainable params: 124,644,769\n",
            "Non-trainable params: 0\n",
            "_________________________________________________________________\n"
          ],
          "name": "stdout"
        }
      ]
    },
    {
      "cell_type": "code",
      "metadata": {
        "colab": {
          "base_uri": "https://localhost:8080/"
        },
        "id": "te3CMHu1xWIi",
        "outputId": "fbe4ff9d-56fd-4333-8d25-d5440b6a20ea"
      },
      "source": [
        "model.compile(optimizer='adam',\n",
        "              loss=tf.losses.BinaryCrossentropy(from_logits=True),\n",
        "              metrics = [tf.metrics.BinaryAccuracy(threshold=0.0, name='accuracy')])\n",
        "\n",
        "# creating a validation set of 10000 examples from the traning data to check the model accuracy on unseen data\n",
        "val_length = 10000\n",
        "x_val = train_examples[:val_length]\n",
        "partial_x_train = train_examples[val_length:]\n",
        "\n",
        "y_val = train_labels[:val_length]\n",
        "partial_y_train = train_labels[val_length:]\n",
        "\n",
        "#train the model\n",
        "history = model.fit(partial_x_train, partial_y_train, epochs=10,\n",
        "                    batch_size=512, validation_data=(x_val, y_val),\n",
        "                    verbose=1)"
      ],
      "execution_count": 8,
      "outputs": [
        {
          "output_type": "stream",
          "text": [
            "Epoch 1/10\n",
            "30/30 [==============================] - 4s 111ms/step - loss: 0.6138 - accuracy: 0.7314 - val_loss: 0.5189 - val_accuracy: 0.8075\n",
            "Epoch 2/10\n",
            "30/30 [==============================] - 3s 109ms/step - loss: 0.4149 - accuracy: 0.8587 - val_loss: 0.3639 - val_accuracy: 0.8626\n",
            "Epoch 3/10\n",
            "30/30 [==============================] - 3s 106ms/step - loss: 0.2636 - accuracy: 0.9139 - val_loss: 0.2948 - val_accuracy: 0.8832\n",
            "Epoch 4/10\n",
            "30/30 [==============================] - 3s 108ms/step - loss: 0.1773 - accuracy: 0.9440 - val_loss: 0.2674 - val_accuracy: 0.8931\n",
            "Epoch 5/10\n",
            "30/30 [==============================] - 3s 106ms/step - loss: 0.1196 - accuracy: 0.9678 - val_loss: 0.2652 - val_accuracy: 0.8924\n",
            "Epoch 6/10\n",
            "30/30 [==============================] - 3s 106ms/step - loss: 0.0795 - accuracy: 0.9828 - val_loss: 0.2598 - val_accuracy: 0.8965\n",
            "Epoch 7/10\n",
            "30/30 [==============================] - 3s 107ms/step - loss: 0.0511 - accuracy: 0.9913 - val_loss: 0.2672 - val_accuracy: 0.8963\n",
            "Epoch 8/10\n",
            "30/30 [==============================] - 3s 107ms/step - loss: 0.0333 - accuracy: 0.9956 - val_loss: 0.2793 - val_accuracy: 0.8949\n",
            "Epoch 9/10\n",
            "30/30 [==============================] - 3s 107ms/step - loss: 0.0222 - accuracy: 0.9981 - val_loss: 0.2916 - val_accuracy: 0.8943\n",
            "Epoch 10/10\n",
            "30/30 [==============================] - 3s 108ms/step - loss: 0.0144 - accuracy: 0.9988 - val_loss: 0.3101 - val_accuracy: 0.8927\n"
          ],
          "name": "stdout"
        }
      ]
    },
    {
      "cell_type": "code",
      "metadata": {
        "colab": {
          "base_uri": "https://localhost:8080/"
        },
        "id": "mlPn9-LTxp7y",
        "outputId": "9c5a39d2-848e-4f47-f17a-da78e9d4cc70"
      },
      "source": [
        "#Evaluate the model: two values will return [loss, accuracy]\n",
        "results = model.evaluate(test_data, test_labels)\n",
        "print(results)"
      ],
      "execution_count": 9,
      "outputs": [
        {
          "output_type": "stream",
          "text": [
            "782/782 [==============================] - 4s 6ms/step - loss: 0.3706 - accuracy: 0.8690\n",
            "[0.3706367611885071, 0.8690000176429749]\n"
          ],
          "name": "stdout"
        }
      ]
    },
    {
      "cell_type": "code",
      "metadata": {
        "colab": {
          "base_uri": "https://localhost:8080/",
          "height": 573
        },
        "id": "byMvuqKNxuwa",
        "outputId": "c1870150-f638-4ba3-cc13-7dbb45607462"
      },
      "source": [
        "history_dict = history.history\n",
        "history_dict.keys()\n",
        "\n",
        "#plotting train and validation error\n",
        "acc = history_dict['accuracy']\n",
        "val_acc = history_dict['val_accuracy']\n",
        "loss = history_dict['loss']\n",
        "val_loss = history_dict['val_loss']\n",
        "\n",
        "epochs = range(1, len(acc) + 1)\n",
        "\n",
        "# \"bo\" is for \"blue dot\"\n",
        "plt.plot(epochs, loss, label='Training loss')\n",
        "# b is for \"solid blue line\"\n",
        "plt.plot(epochs, val_loss, label='Validation loss')\n",
        "plt.title('Training and validation loss')\n",
        "plt.xlabel('Epochs')\n",
        "plt.ylabel('Loss')\n",
        "plt.legend()\n",
        "\n",
        "plt.show()\n",
        "\n",
        "plt.clf()   # clear figure\n",
        "\n",
        "plt.plot(epochs, acc, label='Training acc')\n",
        "plt.plot(epochs, val_acc, label='Validation acc')\n",
        "plt.title('Training and validation accuracy')\n",
        "plt.xlabel('Epochs')\n",
        "plt.ylabel('Accuracy')\n",
        "plt.legend()\n",
        "\n",
        "plt.show()"
      ],
      "execution_count": 10,
      "outputs": [
        {
          "output_type": "display_data",
          "data": {
            "image/png": "[encoded data removed]",
            "text/plain": [
              "<Figure size 432x288 with 1 Axes>"
            ]
          },
          "metadata": {
            "tags": [],
            "needs_background": "light"
          }
        },
        {
          "output_type": "display_data",
          "data": {
            "image/png": "[encoded data removed]",
            "text/plain": [
              "<Figure size 432x288 with 1 Axes>"
            ]
          },
          "metadata": {
            "tags": [],
            "needs_background": "light"
          }
        }
      ]
    },
    {
      "cell_type": "markdown",
      "metadata": {
        "id": "nC7V8PznzBOm"
      },
      "source": [
        "Reference: https://www.tensorflow.org/hub/tutorials/tf2_text_classification"
      ]
    }
  ]
}